{
 "cells": [
  {
   "cell_type": "code",
   "execution_count": 23,
   "metadata": {},
   "outputs": [
    {
     "name": "stdout",
     "output_type": "stream",
     "text": [
      "0\n",
      "2\n",
      "Sneha.Maharjan@company.com\n",
      "Ronk.Raja@company.com\n",
      "Ronk Raja\n",
      "Ronk Raja\n"
     ]
    }
   ],
   "source": [
    "#Class to create blueprint of employee\n",
    "#create a method within our class to get the full name from our input parameter\n",
    "#for that particular instance\n",
    "\n",
    "class Employee:\n",
    "    #class variable\n",
    "    #define all of them here first\n",
    "    raise_amount = 1.04\n",
    "    num_of_emps = 0\n",
    "    \n",
    "    #when we create methods within a class they receive \n",
    "    #the instance/self as the first argument\n",
    "\n",
    "    def __init__(self, first, last, pay): #initialize / constructor\n",
    "        self.first = first  #emp_1.first = 'Sneha'\n",
    "        self.last = last\n",
    "        self.pay = pay\n",
    "        self.email = first + '.' +last+ '@company.com'\n",
    "        \n",
    "        Employee.num_of_emps += 1\n",
    "   \n",
    "    #again remember that when we create a method within a class the\n",
    "    #instance is always the first argument\n",
    "    #If you miss SELF then method will not know which isntance to work on\n",
    "    def fullname(self):\n",
    "        return '{} {}'.format(self.first, self.last)\n",
    "\n",
    "    def apply_raise(self):\n",
    "        #changes the pay attribute\n",
    "        self.pay = int(self.pay * self.raise_amount) \n",
    "        #have to use SELF with class variable to change raise_amount for each instance\n",
    "\n",
    "print(Employee.num_of_emps) \n",
    "\n",
    "emp_1 = Employee('Sneha','Maharjan',50000)\n",
    "emp_2 = Employee('Ronk','Raja',60000)\n",
    "\n",
    "print(Employee.num_of_emps) \n",
    "\n",
    "print(emp_1.email)\n",
    "print(emp_2.email)\n",
    "\n",
    "#parantheses when method instead of attribute\n",
    "\n",
    "print(emp_2.fullname())\n",
    "#gets transformed into the below print statement in the background\n",
    "print(Employee.fullname(emp_2))\n"
   ]
  },
  {
   "cell_type": "code",
   "execution_count": 2,
   "metadata": {},
   "outputs": [
    {
     "name": "stdout",
     "output_type": "stream",
     "text": [
      "1.04\n"
     ]
    }
   ],
   "source": [
    "print(Employee.raise_amount)"
   ]
  },
  {
   "cell_type": "code",
   "execution_count": 3,
   "metadata": {},
   "outputs": [
    {
     "name": "stdout",
     "output_type": "stream",
     "text": [
      "1.04\n"
     ]
    }
   ],
   "source": [
    "print(emp_1.raise_amount)"
   ]
  },
  {
   "cell_type": "code",
   "execution_count": 4,
   "metadata": {},
   "outputs": [
    {
     "name": "stdout",
     "output_type": "stream",
     "text": [
      "1.04\n"
     ]
    }
   ],
   "source": [
    "print(emp_2.raise_amount)"
   ]
  },
  {
   "cell_type": "code",
   "execution_count": 5,
   "metadata": {},
   "outputs": [
    {
     "name": "stdout",
     "output_type": "stream",
     "text": [
      "{'first': 'Sneha', 'last': 'Maharjan', 'pay': 50000, 'email': 'Sneha.Maharjan@company.com'}\n"
     ]
    }
   ],
   "source": [
    "#accessing the classe's raise amount value not instance's\n",
    "\n",
    "print(emp_1.__dict__)"
   ]
  },
  {
   "cell_type": "code",
   "execution_count": 6,
   "metadata": {},
   "outputs": [
    {
     "name": "stdout",
     "output_type": "stream",
     "text": [
      "{'__module__': '__main__', 'raise_amount': 1.04, '__init__': <function Employee.__init__ at 0x7f06586fc0d0>, 'fullname': <function Employee.fullname at 0x7f06586fc6a8>, 'apply_raise': <function Employee.apply_raise at 0x7f06586fc598>, '__dict__': <attribute '__dict__' of 'Employee' objects>, '__weakref__': <attribute '__weakref__' of 'Employee' objects>, '__doc__': None}\n"
     ]
    }
   ],
   "source": [
    "print(Employee.__dict__)"
   ]
  },
  {
   "cell_type": "code",
   "execution_count": 7,
   "metadata": {},
   "outputs": [
    {
     "name": "stdout",
     "output_type": "stream",
     "text": [
      "2\n",
      "2\n",
      "2\n"
     ]
    }
   ],
   "source": [
    "#Only Class has raise_amount index\n",
    "Employee.raise_amount = 2\n",
    "\n",
    "print(Employee.raise_amount)\n",
    "print(emp_1.raise_amount)\n",
    "print(emp_2.raise_amount)"
   ]
  },
  {
   "cell_type": "code",
   "execution_count": 13,
   "metadata": {},
   "outputs": [
    {
     "name": "stdout",
     "output_type": "stream",
     "text": [
      "2\n",
      "3.55\n",
      "10.55\n"
     ]
    }
   ],
   "source": [
    "emp_1.raise_amount = 3.55\n",
    "\n",
    "#only changes the raise_amount for emp_1\n",
    "\n",
    "print(Employee.raise_amount)\n",
    "print(emp_1.raise_amount)\n",
    "print(emp_2.raise_amount)"
   ]
  },
  {
   "cell_type": "code",
   "execution_count": 14,
   "metadata": {},
   "outputs": [
    {
     "name": "stdout",
     "output_type": "stream",
     "text": [
      "2\n",
      "3.55\n",
      "10.55\n"
     ]
    }
   ],
   "source": [
    "emp_2.raise_amount = 10.55\n",
    "\n",
    "#only chnages the raise_amount for emp_2\n",
    "\n",
    "print(Employee.raise_amount)\n",
    "print(emp_1.raise_amount)\n",
    "print(emp_2.raise_amount)\n"
   ]
  },
  {
   "cell_type": "code",
   "execution_count": 15,
   "metadata": {},
   "outputs": [
    {
     "name": "stdout",
     "output_type": "stream",
     "text": [
      "{'first': 'Sneha', 'last': 'Maharjan', 'pay': 50000, 'email': 'Sneha.Maharjan@company.com', 'raise_amount': 3.55}\n"
     ]
    }
   ],
   "source": [
    "print(emp_1.__dict__)\n",
    "#looks at the raise_amount variable value for this instance instead of the class\n",
    "#variable value"
   ]
  },
  {
   "cell_type": "code",
   "execution_count": 16,
   "metadata": {},
   "outputs": [
    {
     "name": "stdout",
     "output_type": "stream",
     "text": [
      "{'first': 'Ronk', 'last': 'Raja', 'pay': 60000, 'email': 'Ronk.Raja@company.com', 'raise_amount': 10.55}\n"
     ]
    }
   ],
   "source": [
    "print(emp_2.__dict__)"
   ]
  },
  {
   "cell_type": "code",
   "execution_count": null,
   "metadata": {},
   "outputs": [],
   "source": []
  }
 ],
 "metadata": {
  "kernelspec": {
   "display_name": "Python 3",
   "language": "python",
   "name": "python3"
  },
  "language_info": {
   "codemirror_mode": {
    "name": "ipython",
    "version": 3
   },
   "file_extension": ".py",
   "mimetype": "text/x-python",
   "name": "python",
   "nbconvert_exporter": "python",
   "pygments_lexer": "ipython3",
   "version": "3.6.7"
  }
 },
 "nbformat": 4,
 "nbformat_minor": 2
}
