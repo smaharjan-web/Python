{
 "cells": [
  {
   "cell_type": "code",
   "execution_count": 24,
   "metadata": {},
   "outputs": [
    {
     "name": "stdout",
     "output_type": "stream",
     "text": [
      "2020\n",
      "2\n",
      "22\n",
      "5\n",
      "False\n"
     ]
    }
   ],
   "source": [
    "class Employee:\n",
    "    #class variable\n",
    "    #define all of them here first\n",
    "    raise_amount = 1.04\n",
    "    num_of_emps = 0\n",
    "    \n",
    "    #when we create methods within a class they receive \n",
    "    #the instance/self as the first argument\n",
    "\n",
    "    def __init__(self, first, last, pay): #initialize / constructor\n",
    "        self.first = first  #emp_1.first = 'Sneha'\n",
    "        self.last = last\n",
    "        self.pay = pay\n",
    "        self.email = first + '.' +last+ '@company.com'\n",
    "        \n",
    "        Employee.num_of_emps += 1\n",
    "   \n",
    "    #again remember that when we create a method within a class the\n",
    "    #instance is always the first argument\n",
    "    #If you miss SELF then method will not know which isntance to work on\n",
    "    def fullname(self):\n",
    "        #return '{} {}'.format(self.first, self.last)\n",
    "        return self.first + ' ' + self.last\n",
    "    \n",
    "    def apply_raise(self):\n",
    "        #changes the pay attribute\n",
    "        self.pay = int(self.pay * self.raise_amount) \n",
    "        #have to use SELF with class variable to change raise_amount for each instance\n",
    "\n",
    "    #regular method takes instance as the first argument but\n",
    "    #we want it to take the class as the first argument\n",
    "    \n",
    "    #change the raise amount for the whole class, all instances included\n",
    "    \n",
    "    @classmethod #applies to the whole class\n",
    "    def set_raise_amt(cls, amount): #cannot say CLASS - cls\n",
    "        cls.raise_amount = amount\n",
    "    \n",
    "    #create an object instance from a string input\n",
    "    @classmethod\n",
    "    def from_string(cls, emp_str):\n",
    "        first, last, pay = emp_str.split('-') #splitting the input parameter string\n",
    "        return cls(first, last, pay) #like Employee(first, last, pay)\n",
    "        #cls is same as Employee in this case\n",
    "    \n",
    "    #REGULAR methods pass the instance as the first argument - SELF\n",
    "    #CLASS methods pass the class as the first argument - cls\n",
    "    #STATIC methods don't pass anything automatically - instance or the class\n",
    "    # but have logical connection with the class\n",
    "    # does not relate to any particular instance\n",
    "    \n",
    "    @staticmethod\n",
    "    def is_workday(check):\n",
    "        \n",
    "        #the weekday() function of the date class in datetime module, returns an \n",
    "        #integer corresponding to the day of the week\n",
    "        if check.weekday() == 5 or check.weekday() == 6:\n",
    "            return False\n",
    "        return True\n",
    "\n",
    "    #Datetime module to work with dates and times\n",
    "\n",
    "#You can instantiate date objects with the date class\n",
    "import datetime\n",
    "\n",
    "#my_dtate is a date object from the date class\n",
    "\n",
    "my_date = datetime.date(2020, 2, 22)\n",
    "\n",
    "print(my_date.year)\n",
    "print(my_date.month)\n",
    "print(my_date.day)\n",
    "print(my_date.weekday())\n",
    "\n",
    "print(Employee.is_workday(my_date))\n",
    "        "
   ]
  },
  {
   "cell_type": "code",
   "execution_count": 2,
   "metadata": {},
   "outputs": [
    {
     "name": "stdout",
     "output_type": "stream",
     "text": [
      "Sneha Maharjan\n"
     ]
    }
   ],
   "source": [
    "emp_1 = Employee('Sneha','Maharjan',50000)\n",
    "emp_2 = Employee('Ronk','Raja',60000)\n",
    "\n",
    "print(emp_1.fullname())"
   ]
  },
  {
   "cell_type": "code",
   "execution_count": 6,
   "metadata": {},
   "outputs": [
    {
     "name": "stdout",
     "output_type": "stream",
     "text": [
      "3\n",
      "3\n",
      "3\n"
     ]
    },
    {
     "ename": "TypeError",
     "evalue": "apply_raise() takes 1 positional argument but 2 were given",
     "output_type": "error",
     "traceback": [
      "\u001b[0;31m---------------------------------------------------------------------------\u001b[0m",
      "\u001b[0;31mTypeError\u001b[0m                                 Traceback (most recent call last)",
      "\u001b[0;32m<ipython-input-6-41cb75bc5829>\u001b[0m in \u001b[0;36m<module>\u001b[0;34m\u001b[0m\n\u001b[1;32m      3\u001b[0m \u001b[0mprint\u001b[0m\u001b[0;34m(\u001b[0m\u001b[0memp_2\u001b[0m\u001b[0;34m.\u001b[0m\u001b[0mraise_amount\u001b[0m\u001b[0;34m)\u001b[0m\u001b[0;34m\u001b[0m\u001b[0;34m\u001b[0m\u001b[0m\n\u001b[1;32m      4\u001b[0m \u001b[0;34m\u001b[0m\u001b[0m\n\u001b[0;32m----> 5\u001b[0;31m \u001b[0memp_1\u001b[0m\u001b[0;34m.\u001b[0m\u001b[0mapply_raise\u001b[0m\u001b[0;34m(\u001b[0m\u001b[0;36m9\u001b[0m\u001b[0;34m)\u001b[0m\u001b[0;34m\u001b[0m\u001b[0;34m\u001b[0m\u001b[0m\n\u001b[0m\u001b[1;32m      6\u001b[0m \u001b[0;34m\u001b[0m\u001b[0m\n\u001b[1;32m      7\u001b[0m \u001b[0mprint\u001b[0m\u001b[0;34m(\u001b[0m\u001b[0mEmployee\u001b[0m\u001b[0;34m.\u001b[0m\u001b[0mraise_amount\u001b[0m\u001b[0;34m)\u001b[0m\u001b[0;34m\u001b[0m\u001b[0;34m\u001b[0m\u001b[0m\n",
      "\u001b[0;31mTypeError\u001b[0m: apply_raise() takes 1 positional argument but 2 were given"
     ]
    }
   ],
   "source": [
    "print(Employee.raise_amount)\n",
    "print(emp_1.raise_amount)\n",
    "print(emp_2.raise_amount)"
   ]
  },
  {
   "cell_type": "code",
   "execution_count": 4,
   "metadata": {},
   "outputs": [
    {
     "name": "stdout",
     "output_type": "stream",
     "text": [
      "2.5\n",
      "2.5\n",
      "2.5\n"
     ]
    }
   ],
   "source": [
    "Employee.set_raise_amt(2.5)\n",
    "\n",
    "print(Employee.raise_amount)\n",
    "print(emp_1.raise_amount)\n",
    "print(emp_2.raise_amount)"
   ]
  },
  {
   "cell_type": "code",
   "execution_count": 5,
   "metadata": {},
   "outputs": [
    {
     "name": "stdout",
     "output_type": "stream",
     "text": [
      "3\n",
      "3\n",
      "3\n"
     ]
    }
   ],
   "source": [
    "emp_1.set_raise_amt(3) #even when trying to run the class method with an instance\n",
    "#it changes the raise_amount variable for the entire class\n",
    "\n",
    "print(Employee.raise_amount)\n",
    "print(emp_1.raise_amount)\n",
    "print(emp_2.raise_amount)"
   ]
  },
  {
   "cell_type": "code",
   "execution_count": null,
   "metadata": {},
   "outputs": [],
   "source": []
  },
  {
   "cell_type": "code",
   "execution_count": 10,
   "metadata": {},
   "outputs": [
    {
     "name": "stdout",
     "output_type": "stream",
     "text": [
      "Maya\n"
     ]
    }
   ],
   "source": [
    "new_emp_1 = Employee.from_string('Maya-Bindu-35999')\n",
    "print (new_emp_1.first)"
   ]
  },
  {
   "cell_type": "markdown",
   "metadata": {},
   "source": []
  },
  {
   "cell_type": "code",
   "execution_count": 36,
   "metadata": {},
   "outputs": [],
   "source": [
    "class Developer(Employee): \n",
    "    #all attributes and methods of the Employee class\n",
    "    raise_amount = 1.10\n",
    "    \n",
    "    def __init__(self,first,last,pay,prog_lang):\n",
    "        super().__init__(first,last,pay) #no need for self here, Employee will handle these attributes\n",
    "        #only have to define the prog_lang attribute now\n",
    "        self.prog_lang = prog_lang\n",
    "    \n",
    "    #Employee.__init__(self,first,last,pay)\n",
    "    \n",
    "    \n",
    "#print(help(Developer))"
   ]
  },
  {
   "cell_type": "code",
   "execution_count": 41,
   "metadata": {},
   "outputs": [
    {
     "name": "stdout",
     "output_type": "stream",
     "text": [
      "Somi\n"
     ]
    }
   ],
   "source": [
    "dev_1 = Developer('Somi','Gurung',90000,'Python')\n",
    "\n",
    "print(dev_1.first)"
   ]
  },
  {
   "cell_type": "code",
   "execution_count": 42,
   "metadata": {},
   "outputs": [
    {
     "name": "stdout",
     "output_type": "stream",
     "text": [
      "90000\n",
      "99000\n"
     ]
    }
   ],
   "source": [
    "print(dev_1.pay)\n",
    "dev_1.apply_raise()\n",
    "print(dev_1.pay)"
   ]
  },
  {
   "cell_type": "code",
   "execution_count": 43,
   "metadata": {},
   "outputs": [
    {
     "name": "stdout",
     "output_type": "stream",
     "text": [
      "Python\n"
     ]
    }
   ],
   "source": [
    "print(dev_1.prog_lang)"
   ]
  },
  {
   "cell_type": "code",
   "execution_count": null,
   "metadata": {},
   "outputs": [],
   "source": []
  }
 ],
 "metadata": {
  "kernelspec": {
   "display_name": "Python 3",
   "language": "python",
   "name": "python3"
  },
  "language_info": {
   "codemirror_mode": {
    "name": "ipython",
    "version": 3
   },
   "file_extension": ".py",
   "mimetype": "text/x-python",
   "name": "python",
   "nbconvert_exporter": "python",
   "pygments_lexer": "ipython3",
   "version": "3.6.7"
  }
 },
 "nbformat": 4,
 "nbformat_minor": 2
}
